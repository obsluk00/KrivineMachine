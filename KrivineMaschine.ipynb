{
 "cells": [
  {
   "cell_type": "markdown",
   "metadata": {},
   "source": [
    "**Seminar:** Struktur und Interpretation von Computerprogrammen - Grundlegende Programmierkonzepte anhand der Sprache LISP, Frühjahrsemester 2021  \n",
    "**Dozenten:** Prof. Dr. Christian Tschudin, Dr. Marcel Lüthi  \n",
    "**Datum:** 5. September 2021  \n",
    "\n",
    "# Eine Krivine-Maschine in Scheme  \n",
    "\n",
    "Luka Obser <luka.obser@unibas.ch>  \n",
    "Reto Krummenacher <reto.krummenacher@unibas.ch>"
   ]
  },
  {
   "cell_type": "markdown",
   "metadata": {},
   "source": [
    "### Einleitung\n",
    "\n",
    "#### Motivation\n",
    "- curry-howard correspondence -> programs as proofs/proofs as programs, krivine asks \"what are meaningful behaviours of\n",
    "such programs and how can we evaluate them\n",
    "- lambda calc as smallest formal system (3 rules for construction of terms and, in this case, 2 reduktion rules (alpha and beta reductions))"
   ]
  },
  {
   "cell_type": "markdown",
   "metadata": {},
   "source": [
    "### 1. Theorie\n",
    "\n",
    "#### 1.a) Lambda-Kalkül Recap\n",
    "Rekursive Definition:\n",
    "\n",
    "Variabel\n",
    "\n",
    "Abstraktion\n",
    "\n",
    "Applikation\n",
    "\n",
    "#### 1.b)\n",
    "alpha reduktion und de bruijn notation\n",
    "\n",
    "ersetzen von variabeln durch \"metainteger\"\n",
    "\n",
    "#### 1.c)\n",
    "beta reduktion und call-by-name"
   ]
  },
  {
   "cell_type": "markdown",
   "metadata": {},
   "source": [
    "### 2. Parsen und AST"
   ]
  },
  {
   "cell_type": "markdown",
   "metadata": {},
   "source": [
    "### 3. Die Maschine\n",
    "Die hier vorgestellte abstrakte Maschine in Scheme folgt der im original von Krivine postulierten Variante (Krivine 2007). In einem ersten Abschnitt werden die notwendigen Datenstrukturen vorgestellte, ehe auf das Verhalten der Maschiene mit ihrem Zustand und den Übergängen eingegangen wird.\n",
    "#### 3.a) Datenstrukturen\n",
    "Die Krivine-Machine benötigt drei Typen von Datenstrukturen: Closures, einen Stack und Environments. Im Folgenden wird vertieft auf diese drei Eingegangen. \n",
    "##### Eine Closure\n",
    "Ein Closure ist ein Paar bestehend aus einem als Term bezeichneten ausführbaren $\\lambda$-Ausdruck und einem Environment. Die Implementierung ist mit den notwendigen *getter* und *setter* Methoden versehen, wobei *'fst* und *'snd* das erste respektive das zweite Element eines Paars returnieren."
   ]
  },
  {
   "cell_type": "code",
   "execution_count": 2,
   "metadata": {},
   "outputs": [],
   "source": [
    "; closure data structure: a pair\n",
    "(define (make-closure)\n",
    "  (let ((c '()))\n",
    "    (lambda (msg . args)\n",
    "      (cond\n",
    "        ((eq? msg 'set)\n",
    "          (set! c (cons (car args) (cdr args))))\n",
    "        ((eq? msg 'fst)\n",
    "          (car c))\n",
    "        ((eq? msg 'snd)\n",
    "          (cadr c))\n",
    "        ((eq? msg 'get) c)\n",
    "        (else\n",
    "          (display (string-append \"\\nERROR: Not supported command: \" (symbol->string msg))) (newline))))))  "
   ]
  },
  {
   "cell_type": "markdown",
   "metadata": {},
   "source": [
    "##### Der Stack\n",
    "Auf dem Stack befinden sich Closures. Implementiert wurde dieser in Scheme als Liste. Mittels den üblichen Befehlen *'push* und *'pop* können Closures auf den Stack geschoben oder vom Stack geholt werden. Ebenfalls enthalten ist die Methode *'display*. Damit ist es möglich die einzelnen Closures auf dem Stack in der Konsole auszugeben."
   ]
  },
  {
   "cell_type": "code",
   "execution_count": 3,
   "metadata": {},
   "outputs": [],
   "source": [
    "; stack data structure: a list with push and pop\n",
    "(define (make-stack)\n",
    "  (let ((s '()) (n 0))\n",
    "     (lambda (msg . args)  ; msg and arguments, if . used, args is seen as list which can be empty\n",
    "       (cond\n",
    "         ((eq? msg 'pop)\n",
    "            (cond\n",
    "              ((null? s)\n",
    "                (display \"\\nERROR: Stack is empty\\n\"))\n",
    "              (else\n",
    "                (set! n (- n 1))\n",
    "                (define tmpS s)\n",
    "                (set! s (cdr s))\n",
    "                (car tmpS)))) ;return the car element of stack\n",
    "         ((eq? msg 'push)\n",
    "            (set! n (+ n 1))\n",
    "            (set! s (append (reverse args) s)))\n",
    "         ((eq? msg 'get) s)\n",
    "         ((eq? msg 'size) n)\n",
    "         ((eq? msg 'display)\n",
    "            (define clos (make-closure))\n",
    "            (let loop ((i 0))\n",
    "               (cond ((< i (length s))\n",
    "                   (set! clos (list-ref s i))\n",
    "                   (display \"[\") (display (clos 'fst)) (display \",\") (display (clos 'snd)) (display \"] \")\n",
    "                   (loop (+ i 1))))))\n",
    "         (else\n",
    "          (display (string-append \"\\nERROR: Not supported command: \" (symbol->string msg))) (newline))))))"
   ]
  },
  {
   "cell_type": "markdown",
   "metadata": {},
   "source": [
    "##### Ein Environment\n",
    "Ein Environment wurde ebenfalls als Liste implementiert. Wenn ein Environment nicht leer ist, dann ist das erste Element selbst ein Environment. Alle folgenden sind Closures, welche mittels *'append* angefügt werden können. Die Datenstruktur bietet die Möglichkeit entweder das enthaltene Environment oder die Closure an Position *k* zrückzugeben."
   ]
  },
  {
   "cell_type": "code",
   "execution_count": null,
   "metadata": {},
   "outputs": [],
   "source": [
    "; environment data structure: a list\n",
    "(define (make-environment)\n",
    "  (let ((e '()))\n",
    "    (lambda (msg . args)\n",
    "      (cond\n",
    "        ((eq? msg 'append)\n",
    "          (set! e (append e args)))  ; append takes list, thus no (car args) needed\n",
    "        ((eq? msg 'getHigh)\n",
    "          (car e))\n",
    "        ((eq? msg 'getK)\n",
    "          (list-ref e (car args))) ; get the kth closure of this environment\n",
    "        ((eq? msg 'get) e)        \n",
    "        (else\n",
    "          (display (string-append \"\\nERROR: Not supported command: \" (symbol->string msg))) (newline))))))"
   ]
  },
  {
   "cell_type": "markdown",
   "metadata": {},
   "source": [
    "#### 3.b) Zustand\n",
    "Der Zustand der Krivine-Maschine ist das Tripel besthenden aus Term $T$, Stack $S$ und Environment $E$. Der Term ist der als nächstes auszuführende $\\lambda$-Ausdruck. $E$ und $S$ sind zu Beginn leer.  \n",
    "Im Unterschied zur ursprünglichen Idee von Krivine (2007, S. 201), wird in der hier präsentierten Implementierung nicht mit Zeigern gearbeitet. Dies ist der Tatsache geschuldet, dass die Sprache Scheme im Gegensatz etwa zur Sprache C keine Zeigervariablen kennt. Daher wird direkt mit den Objekten gearbeitet.  \n",
    "Um einen Zustand festzuhalten, wurde die Datenstruktur *krivine-state* geschreiben, welche für alle drei Elemente des Zustands eine ensprechende *'get* und *'set* Methode anbietet."
   ]
  },
  {
   "cell_type": "code",
   "execution_count": 7,
   "metadata": {},
   "outputs": [],
   "source": [
    "; Krivine Machine state consisting of next to evaluate term T, stack S and environment E\n",
    "; on object creation elements are initialized\n",
    "(define (krivine-state)\n",
    "  (let ((T '()) (S (make-stack)) (E (make-environment)))\n",
    "    (lambda (msg . args)  ; args is always a list, to get sinlge element use (car args)\n",
    "       (cond\n",
    "          ((eq? msg 'setT) (set! T (car args)))\n",
    "          ((eq? msg 'setS) (set! S (car args))) \n",
    "          ((eq? msg 'setE) (set! E (car args))) \n",
    "          ((eq? msg 'getT) T)\n",
    "          ((eq? msg 'getS) S)\n",
    "          ((eq? msg 'getE) E)\n",
    "          (else\n",
    "             (display (string-append \"\\nERROR: Not supported command: \" (symbol->string msg))) (newline))))))"
   ]
  },
  {
   "cell_type": "markdown",
   "metadata": {},
   "source": [
    "#### 3.c) Zustandsveränderung\n",
    "Krivine (2007, S. 201/204) beschreibt drei Zustandsveränderung in Abhängigkeit vom aussehen des Terms $T$, also des auszuführenden Ausdrucks. Im vorliegenden Fall wurden die Regeln derart implementiert, dass sie eine State-Objekt als Argument entgegen nehmen, die notwendigen Schritt ausführen und danach den aktualisierten Zustand zurückgeben. Es sind die die Applikation, die Abstraktion und das Ausführen einer Variable.\n",
    "##### Applikation\n",
    "Eine Applikation liegt vor, wenn $T=(u)x$ ist. Der Ausdruck $x$ wird zusammen mit dem aktuellen Environment $E$ in einer Closure $\\xi=<x,E>$ gespeichert und diese anschliessend auf den Stack gepushed. Für den nächsten Schritt wird $T=u$ gesetzt. Das Environment bleibt unverändert."
   ]
  },
  {
   "cell_type": "code",
   "execution_count": 4,
   "metadata": {},
   "outputs": [],
   "source": [
    "; 1. Application of the form (λx.x)(λy.y): APP (ABS (#\\λ . 1) VAR . \"x\") ABS (#\\λ . 1) VAR . \"z\")\n",
    ";    Create closure with the address of the latter part (e.g. λy.y), push to stack and update T\n",
    ";    @Param: a state object\n",
    ";    @Return: a state object\n",
    "(define (app s) \n",
    "  (define clos (make-closure))\n",
    "  (clos 'set (cddr (s 'getT)) (s 'getE)) ; create closure with second part of T pair as new T and the current environment\n",
    "  (define stack (s 'getS))\n",
    "  (stack 'push clos)\n",
    "  (s 'setS stack)  ; push it to stack\n",
    "  (s 'setT (cadr (s 'getT))) ; T is the first element of the pair which is evaluated next\n",
    "  s) ; resturn new state"
   ]
  },
  {
   "cell_type": "markdown",
   "metadata": {},
   "source": [
    "##### Abstraktion\n",
    "Eine Abstaktion liegt vor, wenn der Term mit einem $\\lambda$ beginnt, also zum Beispiel $T=\\lambda x_{1}\\ldots\\lambda x_{n}y$ ist und $y$ kein $\\lambda$ vorangestellt hat. In diesem Fall wird ein neues Environment $E'$ erstellt. Das erste Element ist das bisherige $E$. Die weiteren Elemente sind die $n$ Closures, welche vom Stack geholt werden. Somit ist $E'=(E,\\xi_1,\\ldots,\\xi_n)$. Für die Weiterverarbeitung ist $T=y$ und $E=E'$. Der Stack kann, muss aber nicht leer sein."
   ]
  },
  {
   "cell_type": "code",
   "execution_count": 5,
   "metadata": {},
   "outputs": [],
   "source": [
    "; 2. Abstraction λx.x: (ABS (#\\λ . 1) VAR . \"u\")\n",
    ";    Create new environment e.g (E, clos1, ..., closN), by popping n times from stack\n",
    ";    @Param: a state object\n",
    ";    @Return: a state object\n",
    "(define (abs s)\n",
    "  (define env (make-environment))\n",
    "  (env 'append (s 'getE)) ; update E, the pointer to current environment\n",
    "  (define stack (s 'getS))\n",
    "  (let loop ((i (cdr (cadr (s 'getT))))) ; do number of pops\n",
    "     (cond ((> i 0)\n",
    "         (env 'append (stack 'pop))\n",
    "         (loop (- i 1)))))\n",
    "  (s 'setE env) ; this is new state environment\n",
    "  (s 'setS stack) ; new stack\n",
    "  (s 'setT (cddr (s 'getT))) ;T becomes the last element of former T pair\n",
    "   s) ; return new state"
   ]
  },
  {
   "cell_type": "markdown",
   "metadata": {},
   "source": [
    "##### Ausführen einer Variable\n",
    "Wenn der Term nur eine einzelne Variable enthält, denn wird wiefolgt vorgegangen.  \n",
    "Die Variable wurde im Kompilierschritt mit einem Wertepaar $<v,k>$ ersetzt. Dies gibt an in welchem Environment in welcher Closure die auszuführende Variable gebunden ist. Zuerst wird das richtige Enviroment gesucht. Ist $v=0$, dann handelt es sich um das aktuelle $E$. Falls $v>0$ wird das nächst höhere Environment $E_1$ gesucht, sprich das erste Element von $E$. Dies wird wiederholt, bis $E_v$ gefunden ist.  \n",
    "Der Wert $k$ gibt an, welches Closure $\\xi_k$ aus $E_v$ benötigt wird. Eine Closure besteht aus einem Term und einem Environment. $T$ wird nun zum Term von $\\xi_k$ und $E$ zum Environment von $\\xi_k$."
   ]
  },
  {
   "cell_type": "code",
   "execution_count": 6,
   "metadata": {},
   "outputs": [],
   "source": [
    "; 3. Variable x\n",
    ";    The Value of x was replaced by an ordered pair <v,k>\n",
    ";    The v gives the environment in which x can be found\n",
    ";    k is the number of the closure inside that environment\n",
    ";    @Param: a state object\n",
    ";    @Return: a state object\n",
    "(define (var s)\n",
    "  (define env (s 'getE))\n",
    "  (define e (make-environment))\n",
    "  (let ((v (cadr (s 'getT))) (k (cddr (s 'getT))))\n",
    "    ;(display (string-append \"v:\" (number->string v) \" k:\" (number->string k))) (newline)\n",
    "    ; get recursive the environment v and update state\n",
    "    (let loop ((i 0))\n",
    "     (cond ((< i v)          \n",
    "         (set! e (env 'getHigh))\n",
    "         (set! env e)\n",
    "         (cond ((null? env)\n",
    "             (error \"Empty environment found. Machine stopped\" (env 'get))))         \n",
    "         (loop (+ i 1)))))\n",
    "    ; get k closure in the updated state environment and update T, check if this is available\n",
    "    (cond ((> k (length(env 'get)))\n",
    "               (error \"No Closure with needed index in environment. Machine stopped\" (env 'get)))\n",
    "          (else\n",
    "               (let ((T '()) (E '()) (clos (make-closure)))\n",
    "                   (set! clos (env 'getK k))\n",
    "                   (set! T (clos 'fst))\n",
    "                   (set! E (clos 'snd))\n",
    "                   (s 'setT T) ; elements of clos are T and E\n",
    "                   (s 'setE E))\n",
    "               s)))) ; return new state"
   ]
  },
  {
   "cell_type": "markdown",
   "metadata": {},
   "source": [
    "#### 3.d) Die Krivine-Routine\n",
    "Mittels der vorgestellten Regeln kann nun die Krivine-Maschine mittels rekursivem Aufruf simuliert werden. Die Maschine ist fertig, wenn $S$ und $E$ wieder leer sind. Dann ist das Ergebnis in $T$ enthalten. "
   ]
  },
  {
   "cell_type": "code",
   "execution_count": 8,
   "metadata": {},
   "outputs": [],
   "source": [
    "; Krivine Machine\n",
    "(define (krivine-machine T)\n",
    "  ; create state object\n",
    "  (define state (krivine-state))\n",
    "  (state 'setT T)\n",
    "  (define n 0)\n",
    "  ; eval loop\n",
    "  (let eval ((state state) (n n))\n",
    "     (display (string-append \"State after step \" (number->string n) \":\")) (newline) \n",
    "     (display \"T: \") (display (state 'getT)) (newline)\n",
    "     (display \"S: \") ((state 'getS) 'display) (newline)\n",
    "     (display \"E: \") (display ((state 'getE) 'get)) (newline) (newline)\n",
    "     (cond ((eq? (car (state 'getT)) 'APP)\n",
    "            (eval (app state) (+ n 1)))\n",
    "           ((and (not (null? ((state 'getS) 'get))) (eq? (car (state 'getT)) 'ABS))\n",
    "            ; start abstraction only if stack is non empty\n",
    "            (eval (abs state) (+ n 1)))\n",
    "           ((eq? (car (state 'getT)) 'VAR)\n",
    "            (eval (var state) (+ n 1)))\n",
    "           ((and (null? ((state 'getS) 'get)) (null? ((state 'getE) 'get)))\n",
    "            state)  ; termination condition\n",
    "           ))\n",
    "  (state 'getT))"
   ]
  },
  {
   "cell_type": "markdown",
   "metadata": {},
   "source": [
    "Hier ist Test:"
   ]
  },
  {
   "cell_type": "code",
   "execution_count": null,
   "metadata": {},
   "outputs": [],
   "source": []
  },
  {
   "cell_type": "markdown",
   "metadata": {},
   "source": [
    "### Fazit"
   ]
  },
  {
   "cell_type": "markdown",
   "metadata": {},
   "source": [
    "## Quellenverzeichnis\n",
    "- Krivine, Jean-Louis (2007):   \n",
    "   *A call-by-name lambda-calculus machine*, Springer, <https://link.springer.com/article/10.1007/s10990-007-9018-9> (letzter Zugriff 3.9.2021)\n",
    "- Rojas, Raúl (2015):  \n",
    "  *A Tutorial Introduction to the Lambda Calculus*, FU Berlin, <https://arxiv.org/abs/1503.09060> (letzter Zugriff 3.9.2021)\n",
    "- De Bruijn, Nicolaas Govert (1972):  \n",
    "  *Lambda calculus notation with nameless dummies, a tool for automatic formula manipulation, with application to the Church-Rosser theorem*, <https://doi.org/10.1016/1385-7258(72)90034-0> (letzter Zugriff 3.9.2021)"
   ]
  }
 ],
 "metadata": {
  "kernelspec": {
   "display_name": "Racket",
   "language": "racket",
   "name": "racket"
  },
  "language_info": {
   "codemirror_mode": "scheme",
   "file_extension": ".rkt",
   "mimetype": "text/x-racket",
   "name": "Racket",
   "pygments_lexer": "racket",
   "version": "8.0"
  }
 },
 "nbformat": 4,
 "nbformat_minor": 4
}
