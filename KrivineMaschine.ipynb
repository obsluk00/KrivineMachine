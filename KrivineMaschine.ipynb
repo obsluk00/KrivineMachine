{
 "cells": [
  {
   "cell_type": "markdown",
   "metadata": {},
   "source": [
    "**Seminar:** Struktur und Interpretation von Computerprogrammen - Grundlegende Programmierkonzepte anhand der Sprache LISP, Frühjahrsemester 2021  \n",
    "**Dozenten:** Prof. Dr. Christian Tschudin, Dr. Marcel Lüthi  \n",
    "**Datum:** 5. September 2021  \n",
    "\n",
    "# Eine Krivine-Maschine in Scheme  \n",
    "\n",
    "Luka Obser <luka.obser@unibas.ch>  \n",
    "Reto Krummenacher <reto.krummenacher@unibas.ch>"
   ]
  },
  {
   "cell_type": "markdown",
   "metadata": {},
   "source": [
    "### Einleitung"
   ]
  },
  {
   "cell_type": "markdown",
   "metadata": {},
   "source": [
    "### 1. Theorie"
   ]
  },
  {
   "cell_type": "markdown",
   "metadata": {},
   "source": [
    "### 2. Parsen und AST"
   ]
  },
  {
   "cell_type": "markdown",
   "metadata": {},
   "source": [
    "### 3. Die Maschine\n",
    "Die hier vorgestellte abstrakte Maschine in Scheme folgt der im original von Krivine postulierten Variante (Krivine 2007). In einem ersten Abschnitt werden die notwendigen Datenstrukturen vorgestellte, ehe auf das Verhalten der Maschiene mit ihrem Zustand und den Übergängen eingegangen wird.\n",
    "#### Datenstrukturen\n",
    "Die Krivine-Machine benötigt drei Typen von Datenstrukturen: Closures, einen Stack und Environments. Im Folgenden wird vertieft auf diese drei Eingegangen. \n",
    "##### Eine Closure\n",
    "Ein Closure ist ein Paar bestehend aus einem als Term bezeichneten ausführbaren $\\lambda$-Ausdruck und einem Environment. Die Implementierung ist mit den notwendigen *getter* und *setter* Methoden versehen, wobei *'fst* und *'snd* das erste respektive das zweite Element eines Paars returnieren."
   ]
  },
  {
   "cell_type": "code",
   "execution_count": 2,
   "metadata": {},
   "outputs": [],
   "source": [
    "; closure data structure: a pair\n",
    "(define (make-closure)\n",
    "  (let ((c '()))\n",
    "    (lambda (msg . args)\n",
    "      (cond\n",
    "        ((eq? msg 'set)\n",
    "          (set! c (cons (car args) (cdr args))))\n",
    "        ((eq? msg 'fst)\n",
    "          (car c))\n",
    "        ((eq? msg 'snd)\n",
    "          (cadr c))\n",
    "        ((eq? msg 'get) c)\n",
    "        (else\n",
    "          (display (string-append \"\\nERROR: Not supported command: \" (symbol->string msg))) (newline))))))  "
   ]
  },
  {
   "cell_type": "markdown",
   "metadata": {},
   "source": [
    "##### Der Stack\n",
    "Auf dem Stack befinden sich Closures. Implementiert wurde dieser in Scheme als Liste. Mittels den üblichen Befehlen *'push* und *'pop* können Closures auf den Stack geschoben oder vom Stack geholt werden. Ebenfalls enthalten ist die Methode *'display*. Damit ist es möglich die einzelnen Closures auf dem Stack in der Konsole auszugeben."
   ]
  },
  {
   "cell_type": "code",
   "execution_count": 3,
   "metadata": {},
   "outputs": [],
   "source": [
    "; stack data structure: a list with push and pop\n",
    "(define (make-stack)\n",
    "  (let ((s '()) (n 0))\n",
    "     (lambda (msg . args)  ; msg and arguments, if . used, args is seen as list which can be empty\n",
    "       (cond\n",
    "         ((eq? msg 'pop)\n",
    "            (cond\n",
    "              ((null? s)\n",
    "                (display \"\\nERROR: Stack is empty\\n\"))\n",
    "              (else\n",
    "                (set! n (- n 1))\n",
    "                (define tmpS s)\n",
    "                (set! s (cdr s))\n",
    "                (car tmpS)))) ;return the car element of stack\n",
    "         ((eq? msg 'push)\n",
    "            (set! n (+ n 1))\n",
    "            (set! s (append (reverse args) s)))\n",
    "         ((eq? msg 'get) s)\n",
    "         ((eq? msg 'size) n)\n",
    "         ((eq? msg 'display)\n",
    "            (define clos (make-closure))\n",
    "            (let loop ((i 0))\n",
    "               (cond ((< i (length s))\n",
    "                   (set! clos (list-ref s i))\n",
    "                   (display \"[\") (display (clos 'fst)) (display \",\") (display (clos 'snd)) (display \"] \")\n",
    "                   (loop (+ i 1))))))\n",
    "         (else\n",
    "          (display (string-append \"\\nERROR: Not supported command: \" (symbol->string msg))) (newline))))))"
   ]
  },
  {
   "cell_type": "markdown",
   "metadata": {},
   "source": [
    "##### Ein Environment\n",
    "Ein Environment wurde ebenfalls als Liste implementiert. Wenn ein Environment nicht leer ist, dann ist das erste Element selbst ein Environment. Alle folgenden sind Closures, welche mittels *'append* angefügt werden können. Die Datenstruktur bietet die Möglichkeit entweder das enthaltene Environment oder die Closure an Position *k* zrückzugeben."
   ]
  },
  {
   "cell_type": "code",
   "execution_count": null,
   "metadata": {},
   "outputs": [],
   "source": [
    "; environment data structure: a list\n",
    "(define (make-environment)\n",
    "  (let ((e '()))\n",
    "    (lambda (msg . args)\n",
    "      (cond\n",
    "        ((eq? msg 'append)\n",
    "          (set! e (append e args)))  ; append takes list, thus no (car args) needed\n",
    "        ((eq? msg 'getHigh)\n",
    "          (car e))\n",
    "        ((eq? msg 'getK)\n",
    "          (list-ref e (car args))) ; get the kth closure of this environment\n",
    "        ((eq? msg 'get) e)        \n",
    "        (else\n",
    "          (display (string-append \"\\nERROR: Not supported command: \" (symbol->string msg))) (newline))))))"
   ]
  },
  {
   "cell_type": "markdown",
   "metadata": {},
   "source": [
    "#### Zustand\n",
    "Der Zustand der Krivine-Maschine ist das Tripel besthenden aus Term (*T*), Stack (*S*) und Environment (*E*). Der Term ist der als nächstes auszuführende $\\lambda$-Ausdruck. *E* und *S* sind zu Beginn leer.\n",
    "Im Unterschied zur ursprünglichen Idee von Krivine (2007, S. 4), wird in der vorgestellten Implementierung nicht mit Zeigern gearbeitet. Dies ist der Tatsache geschuldet, dass die Sprache Scheme im Gegensatz etwa zur Sprache C keine zusätzliche Zeigervariablen kennt. "
   ]
  },
  {
   "cell_type": "code",
   "execution_count": 7,
   "metadata": {},
   "outputs": [],
   "source": []
  },
  {
   "cell_type": "markdown",
   "metadata": {},
   "source": [
    "## Quellenverzeichnis\n",
    "- Krivine, Jean-Louis (2007):  \n",
    "  *A call-by-name lambda-calculus machine*, Springer, <https://link.springer.com/article/10.1007/s10990-007-9018-9> (letzter Zugriff 3.9.2021)\n",
    "- blabla"
   ]
  }
 ],
 "metadata": {
  "kernelspec": {
   "display_name": "Racket",
   "language": "racket",
   "name": "racket"
  },
  "language_info": {
   "codemirror_mode": "scheme",
   "file_extension": ".rkt",
   "mimetype": "text/x-racket",
   "name": "Racket",
   "pygments_lexer": "racket",
   "version": "8.0"
  }
 },
 "nbformat": 4,
 "nbformat_minor": 4
}
