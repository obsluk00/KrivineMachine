{
 "cells": [
  {
   "cell_type": "markdown",
   "metadata": {},
   "source": [
    "**Seminar:** Struktur und Interpretation von Computerprogrammen - Grundlegende Programmierkonzepte anhand der Sprache LISP, Frühjahrsemester 2021  \n",
    "**Dozenten:** Prof. Dr. Christian Tschudin, Dr. Marcel Lüthi  \n",
    "**Datum:** 5. September 2021  \n",
    "\n",
    "# Eine Krivine-Maschine in Scheme  \n",
    "\n",
    "Luka Obser <luka.obser@unibas.ch>  \n",
    "Reto Krummenacher <reto.krummenacher@unibas.ch>"
   ]
  },
  {
   "cell_type": "markdown",
   "metadata": {},
   "source": [
    "### Einleitung"
   ]
  },
  {
   "cell_type": "markdown",
   "metadata": {},
   "source": [
    "### 1. Theorie"
   ]
  },
  {
   "cell_type": "markdown",
   "metadata": {},
   "source": [
    "### 2. Parsen und AST"
   ]
  },
  {
   "cell_type": "markdown",
   "metadata": {},
   "source": [
    "### 3. Die Maschine\n"
   ]
  },
  {
   "cell_type": "code",
   "execution_count": null,
   "metadata": {},
   "outputs": [],
   "source": []
  },
  {
   "cell_type": "code",
   "execution_count": 7,
   "metadata": {},
   "outputs": [],
   "source": [
    "; stack data structure with push and pop\n",
    "(define (make-stack)\n",
    "  (let ((s '()) (n 0))\n",
    "     (lambda (msg . args)  ; msg and arguments, if . used, args is seen as list which can be empty\n",
    "       (cond\n",
    "         ((eq? msg 'pop)\n",
    "            (cond\n",
    "              ((null? s)\n",
    "                (display \"\\nERROR: Stack is empty\\n\"))\n",
    "              (else\n",
    "                (set! n (- n 1))\n",
    "                (define tmpS s)\n",
    "                (set! s (cdr s))\n",
    "                (car tmpS)))) ;return the car element of stack\n",
    "         ((eq? msg 'push)\n",
    "            (set! n (+ n 1))\n",
    "            (set! s (append (reverse args) s)))\n",
    "         ((eq? msg 'get) s)\n",
    "         ((eq? msg 'size) n)\n",
    "         (else\n",
    "          (display (string-append \"\\nERROR: Not supported command: \" (symbol->string msg))) (newline))))))"
   ]
  },
  {
   "cell_type": "code",
   "execution_count": 11,
   "metadata": {},
   "outputs": [
    {
     "name": "stdout",
     "output_type": "stream",
     "text": [
      "\n",
      "ERROR: Stack is empty\n",
      "\n",
      "ERROR: Not supported command: invalid\n",
      "2\n",
      "((λy.y) (λx.x))\n",
      "(λy.y)\n",
      "(λx.x)\n"
     ]
    }
   ],
   "source": [
    "; test stack\n",
    "(define stack (make-stack))\n",
    "(stack 'pop)   ; display stack is empty\n",
    "(stack 'invalid)\n",
    "(stack 'push \"(λx.x)\")\n",
    "(stack 'push \"(λy.y)\")\n",
    "(display (stack 'size)) (newline)\n",
    "(display (stack 'get)) (newline)\n",
    "(display (stack 'pop)) (newline)\n",
    "(display (stack 'pop)) (newline)"
   ]
  },
  {
   "cell_type": "markdown",
   "metadata": {},
   "source": [
    "## Quellenverzeichnis\n",
    "- Krivine, Jean-Louis (2007):  \n",
    "  *A call-by-name lambda-calculus machine*, Springer, <https://link.springer.com/article/10.1007/s10990-007-9018-9> (letzter Zugriff 3.9.2021)\n",
    "- blabla"
   ]
  }
 ],
 "metadata": {
  "kernelspec": {
   "display_name": "Racket",
   "language": "racket",
   "name": "racket"
  },
  "language_info": {
   "codemirror_mode": "scheme",
   "file_extension": ".rkt",
   "mimetype": "text/x-racket",
   "name": "Racket",
   "pygments_lexer": "racket",
   "version": "8.0"
  }
 },
 "nbformat": 4,
 "nbformat_minor": 4
}
