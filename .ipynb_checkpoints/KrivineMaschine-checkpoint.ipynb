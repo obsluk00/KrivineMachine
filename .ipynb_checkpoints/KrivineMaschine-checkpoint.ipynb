{
 "cells": [
  {
   "cell_type": "markdown",
   "metadata": {},
   "source": [
    "**Seminar:** Struktur und Interpretation von Computerprogrammen - Grundlegende Programmierkonzepte anhand der Sprache LISP, Frühjahrsemester 2021  \n",
    "**Dozenten:** Prof. Dr. Christian Tschudin, Dr. Marcel Lüthi  \n",
    "**Datum:** 5. September 2021  \n",
    "\n",
    "# Eine Krivine-Maschine in Scheme  \n",
    "\n",
    "Luka Obser <luka.obser@unibas.ch>  \n",
    "Reto Krummenacher <reto.krummenacher@unibas.ch>"
   ]
  },
  {
   "cell_type": "markdown",
   "metadata": {},
   "source": [
    "### Einleitung\n",
    "\n",
    "#### Motivation\n",
    "- curry-howard correspondence -> programs as proofs/proofs as programs, krivine asks \"what are meaningful behaviours of\n",
    "such programs and how can we evaluate them\n",
    "- lambda calc as smallest formal system (3 rules for construction of terms and, in this case, 2 reduktion rules (alpha and beta reductions))"
   ]
  },
  {
   "cell_type": "markdown",
   "metadata": {},
   "source": [
    "### 1. Hintergrund und Theorie\n",
    "Es folgen kompakte und in sich abgeschlossene Definitionen der theoretischen Grundlagen der Krivine-Maschine.\n",
    "\n",
    "\n",
    "#### 1.a) Lambda-Kalkül Recap\n",
    "Wir wollen zuerst einen kurzen Auffrischer des Lambda-Kalküls anbieten.\n",
    "Für eine detailliertere Einführung empfiehlt sich Rojas (2015).\n",
    "\n",
    "Definition gültiger λ-Terme:\n",
    "- Variablen: $x$\n",
    "    - Variablen werden durch Symbole (hier: $a$, $b$, $c$, ...) repräsentiert und stehen für beliebige andernorts\n",
    "    definierte mathematische Objekte ohne spezifischen Typ. Dies könnten Zahlen oder auch komplexere Konzepte\n",
    "    wie Funktionen sein. Die Sinngebung und Interpretation ist dem Author der λ-Terme überlassen.\n",
    "- Abstraktion: $λx.a$\n",
    "    - Abstraktionen beschreiben das Konzept von Funktionsdefinition, indem sie Variablen (hier $x$) an λ-Terme (hier $a$) binden.\n",
    "    Das obige Beispiel kann also als $f(x) := a$ interpretiert werden, wobei $x$ hier nicht (mehr) andernorts definiert ist\n",
    "    (mehr zu den Problemen die daraus resultieren können in **1.b)**).\n",
    "    - Falls $a$ ebenfalls eine Abstraktion ist, z.B. $λy.b$, entspricht dies Currying. Wir führen deshalb auch die\n",
    "    syntaktisch gezuckerte Schreibweise $λxy.b$ als Alternative zu $λx.λy.b$ ein.\n",
    "- Applikation: $a\\ b$\n",
    "    - Applikationen von zwei gültigen λ-Termen $a, b$ entsprechen dem Aufruf von $a$ mit $b$ als Argument.\n",
    "    - Wir führen wieder syntaktischen Zucker ein, indem wir verschachtelte Applikation wie $(((a\\ b)\\ c)\\ d)$ als $a\\ b\\ c\\ d$\n",
    "    schreiben.\n",
    "    - Zusätzlich definieren wir, dass Abstraktionen stärker als Applikationen binden. Konkret heißt dies, dass der Ausdruck\n",
    "    $λx.x\\ y$ eine Abstraktion ist und nicht der Applikation von $λx.x$ auf $y$ entspricht. Um diese auszudrücken, setzen\n",
    "    wir Klammern um die Abstraktion: $(λx.x)\\ y$\n",
    "\n",
    "#### 1.b) α-Reduktion und de Bruijn Notation\n",
    "Wie bereits oben angedeutet kann es problematisch werden, wenn Variablen gebunden werden.\n",
    "\n",
    "Im Beispiel $(λx.(λy.x\\ y))\\ y$\n",
    "wird $(λx.(λy.x\\ y))$ auf $y$ angewandt. Dafür ersetzten wir alle Vorkommnisse von $x$ in $(λy.x\\ y)$ durch $y$ und\n",
    "erhalten $(λy.y\\ y)$.\n",
    "\n",
    "Nun wird allerdings dasselbe Symbol für zwei unterschiedliche Zwecke benutzt. Das erste $y$\n",
    "entspricht dem Argument, auf welches wir $(λx.(λy.x\\ y))$ angewandt hatten, während das zweite $y$ kennzeichnet, wo das\n",
    "Argument auf welches $(λy.y\\ y)$ angewandt werden kann einzusetzen ist. Falls wir nun also diese $(λy.y\\ y)$ auf $z$ anwenden wollen,\n",
    "erwarten wir $y\\ z$. Es wäre jedoch auch nachvollziehbar, falls wir die falsche Antwort $z\\ z$ erhalten würden.\n",
    "\n",
    "Um solche Fehler zu vermeiden ist es möglich Variablen umzunennen. Dies nennt sich α-Reduktion und verschiebt (im schlimmsten Fall)\n",
    "die Missverständnisse auf die Ebene der Interpretation von λ-Termen durch ihre Autoren. Im Kontext des Lambda-Kalküls\n",
    "sind also die Terme $(λx.(λy.x\\ y))\\ y$ und $(λx.(λz.x\\ z))\\ y$ sowie $(λx.(λy.x\\ y))\\ z$ (α-)equivalent.\n",
    "\n",
    "\n",
    "Da α-Reduktion schwer zu automieren ist und sie neue Symbole einführt, ist es häufig, auch in unserer Implementation,\n",
    "praktischer die de Bruijn Notation (de Bruijn 1972) zu verwenden. In dieser ersetzen wir Variablen durch Paare ganzer Zahlen,\n",
    "von denen die Erste angibt, vor wie vielen Abstraktionen die Variable gebunden wurde, und die zweite kennzeichnet,\n",
    "als wievielte sie von dieser Abstraktion gebunden wurde. Für freie (andernorts definierte) Variablen ist lediglich der\n",
    "erste Wert relevant, welcher das Symbol encodiert.\n",
    "\n",
    "Wir würden also $(λx.(λy.x\\ y))\\ y$ als $(λ.(λ.<1,1>\\ <0,1>))\\ <1,k>$ encodieren. Hier wurde aus dem freien $y$, $<1,k>$\n",
    "welches wir, falls es nicht in einer Abstraktion vorkommt, als $y$ decodieren können.\n",
    "\n",
    "\n",
    "#### 1.c) β-Reduktion und Call-By-Name Auswertung\n",
    "Die zweite fundamentale Art von Reduktion von λ-Termen, welche für das Verständnis der Krivine-Maschine notwendig ist,\n",
    "ist die β-Reduktion. β-Reduktion entspricht dem oben bereits verwendeten Konzept der Funktionsaufrufe.\n",
    "Bei der β-Reduktion werden λ-Terme der Form $(λX.A)\\ Y$ zu $A[X := Y]$, wobei $X$ die gebundenen Variablen, $Y$ die Argumente und $A$ der\n",
    "Körper der Abstraktion sind.\n",
    "$A[X := Y]$ entspricht dann dem λ-Term $A$, bei dem die Vorkommnisse von $X$ durch $Y$ ersetzt wurden.\n",
    "\n",
    "Die Krivine-Maschine implementiert β-Reduktion im Sinne der Call-By-Name Auswertung, bei der die Argumente einer Funktion\n",
    "erst ausgewertet werden, wenn diese in dem Körper der Funktion auftauchen. Es werden also unausgewertete λ-Terme in den Körper einer Abstraktion\n",
    "substituiert bevor dieser ausgewertet wird.\n",
    "\n",
    "#### 1.d)\n",
    "weak head normal form"
   ]
  },
  {
   "cell_type": "markdown",
   "metadata": {},
   "source": [
    "### 2. Parsen und Kompilieren von λ-Termen\n",
    "Im Folgenden befindet sich der Scheme Code, der benutzt wird um λ-Terme für die Maschine vorzubereiten.\n",
    "\n",
    "#### 2.a) Parser\n",
    "Wir beginnen indem wir ein kleines Typsystem für den Lambda-Kalkül definieren. Hierbei behandeln wir jeden λ-Term als ein Paar. Für Applikationen ist diese Entscheidung selbsterklärend und auch bei der Abstraktion liegt es nah, diese in \"Signatur\" und Körper aufzuteilen. \n",
    "Für Variablen war die Entscheidung eine praktische, da diese beim Kompilieren durch die oben eingeführten Zahlenpaare in der de Bruijn Notation ersetzt werden."
   ]
  },
  {
   "cell_type": "code",
   "execution_count": null,
   "metadata": {
    "pycharm": {
     "name": "#%%\n"
    }
   },
   "outputs": [],
   "source": [
    "(define (attach-tag type-tag contents)\n",
    "  (cons type-tag contents))\n",
    "\n",
    "(define (type-tag typed-content)\n",
    "  (car typed-content))\n",
    "\n",
    "(define (content typed-content)\n",
    "  (cdr typed-content))\n",
    "\n",
    "(define (make-application f x)\n",
    "  (attach-tag 'APP (cons f x)))\n",
    "\n",
    "(define (make-abstraction binding body)\n",
    "  (attach-tag 'ABS (cons binding body)))\n",
    "\n",
    "(define (make-variable v k)\n",
    "  (attach-tag 'VAR (cons v k)))"
   ]
  },
  {
   "cell_type": "markdown",
   "metadata": {},
   "source": [
    "Das Parsen selbst besteht darin, dass eine Liste an Symbolen, wie sie nativ in/von LISP gelesen werden kann, in die oben beschriebenen Paare umgeformt wird. Das Endresultat ist also ein verschachtelter λ-Term, dessen Typ mit *car*, Inhalt mit *cdr*, erstes Element mit *cadr* und zweites Element mit *cddr* angefordert werden kann."
   ]
  },
  {
   "cell_type": "code",
   "execution_count": null,
   "metadata": {},
   "outputs": [],
   "source": [
    ";creates ast\n",
    "(define (parse input)\n",
    "  (cond ((and (list? input) (empty? (cdr input)))\n",
    "         (parse (car input)))\n",
    "        ((and (list? input) (not (empty? input)))\n",
    "         (make-application (parse (car input)) (parse (cdr input))))\n",
    "        ((symbol? input)\n",
    "         (let ([stringput (symbol->string input)])\n",
    "           (cond ((get-pos-of stringput #\\λ)\n",
    "                  (let ([splitted (split-abstraction stringput)])\n",
    "                    (make-abstraction (car splitted) (parse (cdr splitted)))))\n",
    "                 (else\n",
    "                  (attach-tag 'VAR (string->symbol stringput))))))))"
   ]
  },
  {
   "cell_type": "code",
   "execution_count": null,
   "metadata": {
    "pycharm": {
     "name": "#%%\n"
    }
   },
   "outputs": [],
   "source": [
    ";helper to find index of character in string\n",
    "(define (get-pos-of string char)\n",
    "  (let loop ((list (string->list string))\n",
    "             (index 0))\n",
    "    (cond ((empty? list) #f)\n",
    "          ((equal? (car list) char) index)\n",
    "          (else (loop (cdr list) (+ 1 index))))))\n",
    "\n",
    ";creates pair of bindings and body for a given abstraction\n",
    "(define (split-abstraction term)\n",
    "  (let ([dot-index (get-pos-of term #\\.)])\n",
    "    (cons (string->symbol (substring term 0 dot-index)) (string->symbol (substring term (+ 1 dot-index))))))"
   ]
  },
  {
   "cell_type": "markdown",
   "metadata": {
    "pycharm": {
     "name": "#%% md\n"
    }
   },
   "source": [
    "#### 2.b) Kompilierer"
   ]
  },
  {
   "cell_type": "code",
   "execution_count": null,
   "metadata": {
    "pycharm": {
     "name": "#%%\n"
    }
   },
   "outputs": [],
   "source": [
    "(define encode-var #hash((\"a\" . 1)\n",
    "                         (\"b\" . 2)\n",
    "                         (\"c\" . 3)\n",
    "                         (\"d\" . 4)\n",
    "                         (\"e\" . 5)\n",
    "                         (\"f\" . 6)\n",
    "                         (\"g\" . 7)\n",
    "                         (\"h\" . 8)\n",
    "                         (\"i\" . 9)\n",
    "                         (\"j\" . 10)\n",
    "                         (\"k\" . 11)\n",
    "                         (\"l\" . 12)\n",
    "                         (\"m\" . 13)\n",
    "                         (\"n\" . 14)\n",
    "                         (\"o\" . 15)\n",
    "                         (\"p\" . 16)\n",
    "                         (\"q\" . 17)\n",
    "                         (\"r\" . 18)\n",
    "                         (\"s\" . 19)\n",
    "                         (\"t\" . 20)\n",
    "                         (\"u\" . 21)\n",
    "                         (\"v\" . 22)\n",
    "                         (\"w\" . 23)\n",
    "                         (\"x\" . 24)\n",
    "                         (\"y\" . 25)\n",
    "                         (\"z\" . 26)))\n",
    "\n",
    "(define decode-var #hash((1 . \"a\")\n",
    "                         (2 . \"b\")\n",
    "                         (3 . \"c\")\n",
    "                         (4 . \"d\")\n",
    "                         (5 . \"e\")\n",
    "                         (6 . \"f\")\n",
    "                         (7 . \"g\")\n",
    "                         (8 . \"h\")\n",
    "                         (9 . \"i\")\n",
    "                         (10 . \"j\")\n",
    "                         (11 . \"k\")\n",
    "                         (12 . \"l\")\n",
    "                         (13 . \"m\")\n",
    "                         (14 . \"n\")\n",
    "                         (15 . \"o\")\n",
    "                         (16 . \"p\")\n",
    "                         (17 . \"q\")\n",
    "                         (18 . \"r\")\n",
    "                         (19 . \"s\")\n",
    "                         (20 . \"t\")\n",
    "                         (21 . \"u\")\n",
    "                         (22 . \"v\")\n",
    "                         (23 . \"w\")\n",
    "                         (24 . \"x\")\n",
    "                         (25 . \"y\")\n",
    "                         (26 . \"z\")))"
   ]
  },
  {
   "cell_type": "code",
   "execution_count": null,
   "metadata": {},
   "outputs": [],
   "source": [
    ";bindings are tracked as a list where every lambda prepends a list of the variables it bounded (in order of binding)\n",
    ";TODO: returns #f if var isnt bound, otherwise it returns a pair of depth when bound (used to calculate v) and the how many-th argument the variable is (k)\n",
    "(define (bound? var bound-list)\n",
    "  (cond ((empty? bound-list)\n",
    "         #f)\n",
    "        ((index-of (caar bound-list) var)\n",
    "         (cons (cdr (car bound-list)) (+ 1(index-of (caar bound-list) var))))\n",
    "        (else (bound? var (cdr bound-list)))))\n",
    "\n",
    ";adds variable/s being bound at depth to the bound-list\n",
    "(define (bind binding depth bound-list)\n",
    "  (cons (cons (binding-helper binding) depth) bound-list))\n",
    "\n",
    ";creates list of variables (as symbols) that are bound by the first part of an abstraction\n",
    "(define (binding-helper binding)\n",
    "  (let ([listed (for/list ([chars (string->list (symbol->string binding))])\n",
    "                  (string->symbol (string chars)))])\n",
    "    (cdr listed)))"
   ]
  },
  {
   "cell_type": "code",
   "execution_count": null,
   "metadata": {},
   "outputs": [],
   "source": [
    ";\"compiles\" first part of an abstraction\n",
    "(define (lambda-computer term)\n",
    "  (let ([stringput (symbol->string (car term))])\n",
    "    (cons #\\λ (- (string-length stringput) 1))))\n",
    "\n",
    "(define (compile-abstraction term depth bound-list)\n",
    "  (let ([new-bound-list (bind (car term) depth bound-list)])\n",
    "  (make-abstraction (lambda-computer term) (compile (cdr term) (+ 1 depth) new-bound-list))))\n"
   ]
  },
  {
   "cell_type": "code",
   "execution_count": null,
   "metadata": {},
   "outputs": [],
   "source": [
    "(define (compile-variable var depth bound-list)\n",
    "  (let ([binding-info (bound? var bound-list)])\n",
    "    (cond (binding-info\n",
    "           (make-variable (- (- depth 1) (car binding-info)) (cdr binding-info)))\n",
    "          ((not binding-info)\n",
    "           (make-variable (+ (- depth 1) (hash-ref encode-var (symbol->string var))) 99999)))))\n"
   ]
  },
  {
   "cell_type": "code",
   "execution_count": null,
   "metadata": {},
   "outputs": [],
   "source": [
    "(define (compile term depth bound-list)\n",
    "  (cond ((eq? 'APP (car term))\n",
    "         (make-application (compile (car (cdr term)) depth bound-list) (compile (cdr (cdr term)) depth bound-list)))\n",
    "        ((eq? 'ABS (car term))\n",
    "         (compile-abstraction (cdr term) depth bound-list))\n",
    "        ((eq? 'VAR (car term))\n",
    "         (compile-variable (cdr term) depth bound-list))))"
   ]
  },
  {
   "cell_type": "markdown",
   "metadata": {},
   "source": [
    "### 3. Die Maschine\n",
    "Die hier vorgestellte abstrakte Maschine in Scheme folgt der im original von Krivine postulierten Variante (Krivine 2007). In einem ersten Abschnitt werden die notwendigen Datenstrukturen vorgestellte, ehe auf das Verhalten der Maschiene mit ihrem Zustand und den Übergängen eingegangen wird.\n",
    "#### 3.a) Datenstrukturen\n",
    "Die Krivine-Machine benötigt drei Typen von Datenstrukturen: Closures, einen Stack und Environments. Im Folgenden wird vertieft auf diese drei Eingegangen. \n",
    "##### Eine Closure\n",
    "Ein Closure ist ein Paar bestehend aus einem als Term bezeichneten ausführbaren λ-Ausdruck und einem Environment. Die Implementierung ist mit den notwendigen *getter* und *setter* Methoden versehen, wobei *'fst* und *'snd* das erste respektive das zweite Element eines Paars returnieren."
   ]
  },
  {
   "cell_type": "code",
   "execution_count": 6,
   "metadata": {},
   "outputs": [],
   "source": [
    "; closure data structure: a pair\n",
    "(define (make-closure)\n",
    "  (let ((c '()))\n",
    "    (lambda (msg . args)\n",
    "      (cond\n",
    "        ((eq? msg 'set)\n",
    "          (set! c (cons (car args) (cdr args))))\n",
    "        ((eq? msg 'fst)\n",
    "          (car c))\n",
    "        ((eq? msg 'snd)\n",
    "          (cadr c))\n",
    "        ((eq? msg 'get) c)\n",
    "        (else\n",
    "          (display (string-append \"\\nERROR: Not supported command: \" (symbol->string msg))) (newline))))))"
   ]
  },
  {
   "cell_type": "markdown",
   "metadata": {},
   "source": [
    "##### Der Stack\n",
    "Auf dem Stack befinden sich Closures. Implementiert wurde dieser in Scheme als Liste. Mittels den üblichen Befehlen *'push* und *'pop* können Closures auf den Stack geschoben oder vom Stack geholt werden. Ebenfalls enthalten ist die Methode *'display*. Damit ist es möglich die einzelnen Closures auf dem Stack in der Konsole auszugeben."
   ]
  },
  {
   "cell_type": "code",
   "execution_count": 7,
   "metadata": {},
   "outputs": [],
   "source": [
    "; stack data structure with push and pop\n",
    "(define (make-stack)\n",
    "  (let ((s '()) (n 0))\n",
    "     (lambda (msg . args)  ; msg and arguments, if . used, args is seen as list which can be empty\n",
    "       (cond\n",
    "         ((eq? msg 'pop)\n",
    "            (cond\n",
    "              ((null? s)\n",
    "                (display \"\\nERROR: Stack is empty\\n\"))\n",
    "              (else\n",
    "                (set! n (- n 1))\n",
    "                (define tmpS s)\n",
    "                (set! s (cdr s))\n",
    "                (car tmpS)))) ;return the car element of stack\n",
    "         ((eq? msg 'push)\n",
    "            (set! n (+ n 1))\n",
    "            (set! s (append (reverse args) s)))\n",
    "         ((eq? msg 'get) s)\n",
    "         ((eq? msg 'size) n)\n",
    "         ((eq? msg 'display)\n",
    "            (define clos (make-closure))\n",
    "            (cond ((null? s)\n",
    "                   (display '()))\n",
    "                  (else\n",
    "                   (let loop ((i 0))\n",
    "                     (cond ((< i (length s))\n",
    "                            (set! clos (list-ref s i))\n",
    "                            (display \"[\") (display (clos 'fst)) (display \",\") (display (clos 'snd)) (display \"] \")\n",
    "                            (loop (+ i 1))))))))\n",
    "         (else\n",
    "          (display (string-append \"\\nERROR: Not supported command: \" (symbol->string msg))) (newline))))))"
   ]
  },
  {
   "cell_type": "markdown",
   "metadata": {},
   "source": [
    "##### Ein Environment\n",
    "Ein Environment wurde ebenfalls als Liste implementiert. Wenn ein Environment nicht leer ist, dann ist das erste Element selbst ein Environment. Alle folgenden sind Closures, welche mittels *'append* angefügt werden können. Die Datenstruktur bietet die Möglichkeit entweder das enthaltene Environment oder die Closure an Position *k* zrückzugeben."
   ]
  },
  {
   "cell_type": "code",
   "execution_count": 8,
   "metadata": {},
   "outputs": [],
   "source": [
    "; environment data structure: a list\n",
    "(define (make-environment)\n",
    "  (let ((e '()))\n",
    "    (lambda (msg . args)\n",
    "      (cond\n",
    "        ((eq? msg 'append)    ; append arg at the end of list\n",
    "          (set! e (append e args)))  ; append takes list, thus no (car args) needed\n",
    "        ((eq? msg 'getHigh)\n",
    "          (car e))\n",
    "        ((eq? msg 'getK)\n",
    "          (list-ref e (car args))) ; get the kth closure of this environment\n",
    "        ((eq? msg 'get) e)        \n",
    "        (else\n",
    "          (display (string-append \"\\nERROR: Not supported command: \" (symbol->string msg))) (newline))))))"
   ]
  },
  {
   "cell_type": "markdown",
   "metadata": {},
   "source": [
    "#### 3.b) Zustand\n",
    "Der Zustand der Krivine-Maschine ist das Tripel besthenden aus Term $T$, Stack $S$ und Environment $E$. Der Term ist der als nächstes auszuführende λ-Ausdruck. $E$ und $S$ sind zu Beginn leer.  \n",
    "Im Unterschied zur ursprünglichen Idee von Krivine (2007, S. 201), wird in der hier präsentierten Implementierung nicht mit Zeigern gearbeitet. Dies ist der Tatsache geschuldet, dass die Sprache Scheme im Gegensatz etwa zur Sprache C keine Zeigervariablen kennt. Daher wird direkt mit den Objekten gearbeitet.  \n",
    "Um einen Zustand festzuhalten, wurde die Datenstruktur *krivine-state* geschreiben, welche für alle drei Elemente des Zustands eine ensprechende *'get* und *'set* Methode anbietet."
   ]
  },
  {
   "cell_type": "code",
   "execution_count": 9,
   "metadata": {},
   "outputs": [],
   "source": [
    "; Krivine Machine state consisting of next to evaluate term T, stack S and environment E\n",
    "(define (krivine-state)\n",
    "  (let ((T '()) (S (make-stack)) (E (make-environment)))  ; on object creation elements are initialized\n",
    "    (lambda (msg . args)  ; args is always a list, to get sinlge element use (car args)\n",
    "       (cond\n",
    "          ((eq? msg 'setT) (set! T (car args)))\n",
    "          ((eq? msg 'setS) (set! S (car args))) \n",
    "          ((eq? msg 'setE) (set! E (car args))) \n",
    "          ((eq? msg 'getT) T)\n",
    "          ((eq? msg 'getS) S)\n",
    "          ((eq? msg 'getE) E)\n",
    "          (else\n",
    "             (display (string-append \"\\nERROR: Not supported command: \" (symbol->string msg))) (newline))))))"
   ]
  },
  {
   "cell_type": "markdown",
   "metadata": {},
   "source": [
    "#### 3.c) Zustandsveränderung\n",
    "Krivine (2007, S. 201/204) beschreibt drei Zustandsveränderung in Abhängigkeit vom aussehen des Terms $T$, also des auszuführenden Ausdrucks. Im vorliegenden Fall wurden die Regeln derart implementiert, dass sie eine State-Objekt als Argument entgegen nehmen, die notwendigen Schritt ausführen und danach den aktualisierten Zustand zurückgeben. Es sind die die Applikation, die Abstraktion und das Ausführen einer Variable.  \n",
    "Es gibt mehrere Situation in der die Krivine-Maschine nicht mehr weiter arbeiten kann und anhält (Krivine 2007, S.204). Diese Fälle werden bei der jeweiligen Regel kurz erläutert.  \n",
    "##### Applikation\n",
    "Eine Applikation liegt vor, wenn $T=(u)x$ ist. Der Ausdruck $x$ wird zusammen mit dem aktuellen Environment $E$ in einer Closure $\\xi=<x,E>$ gespeichert und diese anschliessend auf den Stack gepushed. Für den nächsten Schritt wird $T=u$ gesetzt. Das Environment bleibt unverändert.  \n",
    "Während dem Abarbeiten einer Applikation hält die Maschiene nie an."
   ]
  },
  {
   "cell_type": "code",
   "execution_count": 21,
   "metadata": {},
   "outputs": [],
   "source": [
    "; Application (λx.x)(λy.y)\n",
    "(define (app s) \n",
    "  (define clos (make-closure))\n",
    "  (clos 'set (cddr (s 'getT)) (s 'getE)) ; create closure with second part of T pair as new T and the current environment\n",
    "  (define stack (s 'getS))\n",
    "  (stack 'push clos)\n",
    "  (s 'setS stack)  ; push it to stack\n",
    "  (s 'setT (cadr (s 'getT))) ; T is the first element of the pair which is evaluated next\n",
    "  s) ; resturn new state"
   ]
  },
  {
   "cell_type": "markdown",
   "metadata": {},
   "source": [
    "##### Abstraktion\n",
    "Eine Abstaktion liegt vor, wenn der Term mit einem $\\lambda$ beginnt, also zum Beispiel $T=\\lambda x_{1}\\ldots\\lambda x_{n}y$ ist und $y$ kein $\\lambda$ vorangestellt hat. In diesem Fall wird ein neues Environment $E'$ erstellt. Das erste Element ist das bisherige $E$. Die weiteren Elemente sind die $n$ Closures, welche vom Stack geholt werden. Somit ist $E'=(E,\\xi_1,\\ldots,\\xi_n)$. Für die Weiterverarbeitung ist $T=y$ und $E=E'$. Der Stack kann, muss aber nicht leer sein.  \n",
    "Die Krivine-Maschine stoppt, falls die Zahl der vom Stack zu holenden Closures $n$ grösser ist als die Anzahl auf dem Stack befindliche Closures."
   ]
  },
  {
   "cell_type": "code",
   "execution_count": 20,
   "metadata": {},
   "outputs": [],
   "source": [
    "; Abstraction λx.x\n",
    "(define (abs s)\n",
    "  (define env (make-environment))\n",
    "  (env 'append (s 'getE)) ; update E, the pointer to current environment\n",
    "  (define stack (s 'getS))\n",
    "  (cond ((> (cdr (cadr (s 'getT))) (stack 'size))\n",
    "          (error \"Too few Closures on Stack to perform Abstraction. Machine stopped\" (stack 'get))))\n",
    "  (let loop ((i (cdr (cadr (s 'getT))))) ; do number of pops\n",
    "     (cond ((> i 0)\n",
    "         (env 'append (stack 'pop))\n",
    "         (loop (- i 1)))))\n",
    "  (s 'setE env) ; this is new state environment\n",
    "  (s 'setS stack) ; new stack\n",
    "  (s 'setT (cddr (s 'getT))) ;T becomes the last element of former T pair\n",
    "   s) ; return new state"
   ]
  },
  {
   "cell_type": "markdown",
   "metadata": {},
   "source": [
    "##### Ausführen einer Variable\n",
    "Wenn der Term nur eine einzelne Variable enthält, denn wird wiefolgt vorgegangen.  \n",
    "Die Variable wurde im Kompilierschritt mit einem Wertepaar $<v,k>$ ersetzt. Dies gibt an in welchem Environment in welcher Closure die auszuführende Variable gebunden ist. Zuerst wird das richtige Enviroment gesucht. Ist $v=0$, dann handelt es sich um das aktuelle $E$. Falls $v>0$ wird das nächst höhere Environment $E_1$ gesucht, sprich das erste Element von $E$. Dies wird wiederholt, bis $E_v$ gefunden ist.  \n",
    "Der Wert $k$ gibt an, welches Closure $\\xi_k$ aus $E_v$ benötigt wird. Eine Closure besteht aus einem Term und einem Environment. $T$ wird nun zum Term von $\\xi_k$ und $E$ zum Environment von $\\xi_k$.  \n",
    "Die Krivine-Maschine hält in diesem Verarbeitungsschritt aus zwei Gründen an. Ersten, wenn bei der Suche nach $E_v$ ein leeres Environment gefunden wird. Damit kann nicht weitergearbeitet werden. Zeitens stoppt die Maschine, wenn die Anzahl enthaltener Closures $n$ im Environment $E_v$ kleiner ist als $k$. Es kann keine Closure $\\xi_k$ mit $k>n$ ausgwählt werden."
   ]
  },
  {
   "cell_type": "code",
   "execution_count": 19,
   "metadata": {},
   "outputs": [],
   "source": [
    "; Variable x\n",
    "(define (var s)\n",
    "  (define env (s 'getE))\n",
    "  (define e (make-environment))\n",
    "  (let ((v (cadr (s 'getT))) (k (cddr (s 'getT))))\n",
    "    ;(display (string-append \"v:\" (number->string v) \" k:\" (number->string k))) (newline)\n",
    "    ; get recursive the environment v and update state\n",
    "    (let loop ((i 0))\n",
    "     (cond ((< i v)\n",
    "         (cond ((null? (env 'get))\n",
    "             (error \"Empty environment found. Machine stopped\" (env 'get))))            \n",
    "         (set! e (env 'getHigh))\n",
    "         (set! env e)         \n",
    "         (loop (+ i 1)))))\n",
    "    ; get k closure in the updated state environment and update T, check if this is available\n",
    "    (cond ((> k (length(env 'get)))\n",
    "               (error \"No Closure with needed index in environment. Machine stopped\" (env 'get)))\n",
    "          (else\n",
    "               (let ((T '()) (E '()) (clos (make-closure)))\n",
    "                   (set! clos (env 'getK k))\n",
    "                   (set! T (clos 'fst))\n",
    "                   (set! E (clos 'snd))\n",
    "                   (s 'setT T) ; elements of clos are T and E\n",
    "                   (s 'setE E))\n",
    "               s)))) ; return new state"
   ]
  },
  {
   "cell_type": "markdown",
   "metadata": {},
   "source": [
    "#### 3.d) Die Krivine-Routine\n",
    "Mittels der vorgestellten Regeln kann nun die Krivine-Maschine mittels rekursivem Aufruf simuliert werden. Die Maschine ist fertig, wenn $S$ und $E$ erneut leer sind. Dann ist das Ergebnis der Reduktion in $T$ enthalten.  \n",
    "Zum besseren Verständnis und zur Kontrolle zeigt die Krivine-Routine in jedem Schritt den Zustand der Maschine an. Das heisst Term, Stack und Environment werden ausgegeben. Aus Grunden der Einfachheit und zur besseren Übersicht werden die einzelenen Element eines Environments nicht detailliert dargestellt, sondern nur als Objekt angezeigt."
   ]
  },
  {
   "cell_type": "code",
   "execution_count": 18,
   "metadata": {},
   "outputs": [],
   "source": [
    "; Krivine Machine\n",
    "(define (krivine-machine T)\n",
    "  ; create state object\n",
    "  (define state (krivine-state))\n",
    "  (state 'setT T)\n",
    "  (define n 0)\n",
    "  ; eval loop\n",
    "  (let eval ((state state) (n n))\n",
    "     (cond ((= n 0)\n",
    "            (display \"Initial State:\") (newline))\n",
    "         (else\n",
    "            (display (string-append \"State after step \" (number->string n) \":\")) (newline)))\n",
    "     (display \"T: \") (display (state 'getT)) (newline)\n",
    "     (display \"S: \") ((state 'getS) 'display) (newline)\n",
    "     (display \"E: \") (display ((state 'getE) 'get)) (newline) (newline)\n",
    "     (cond ((eq? (car (state 'getT)) 'APP)\n",
    "              (eval (app state) (+ n 1)))\n",
    "           ((and (not (null? ((state 'getS) 'get))) (eq? (car (state 'getT)) 'ABS))\n",
    "               ; start abstraction only if stack is non empty\n",
    "              (eval (abs state) (+ n 1)))\n",
    "           ((eq? (car (state 'getT)) 'VAR)\n",
    "              (eval (var state) (+ n 1)))\n",
    "           ((and (null? ((state 'getS) 'get)) (null? ((state 'getE) 'get)))\n",
    "              state)  ; termination condition\n",
    "           ))\n",
    "  (state 'getT))"
   ]
  },
  {
   "cell_type": "markdown",
   "metadata": {},
   "source": [
    "Hier ist Test:"
   ]
  },
  {
   "cell_type": "code",
   "execution_count": 22,
   "metadata": {},
   "outputs": [
    {
     "name": "stdout",
     "output_type": "stream",
     "text": [
      "Initial State:\n",
      "T: (APP (ABS (λ . 1) APP (VAR 0 . 1) VAR 0 . 1) ABS (λ . 1) VAR 0 . 1)\n",
      "S: ()\n",
      "E: ()\n",
      "\n",
      "State after step 1:\n",
      "T: (ABS (λ . 1) APP (VAR 0 . 1) VAR 0 . 1)\n",
      "S: [(ABS (λ . 1) VAR 0 . 1),#<procedure>] \n",
      "E: ()\n",
      "\n",
      "State after step 2:\n",
      "T: (APP (VAR 0 . 1) VAR 0 . 1)\n",
      "S: ()\n",
      "E: (#<procedure> #<procedure>)\n",
      "\n",
      "State after step 3:\n",
      "T: (VAR 0 . 1)\n",
      "S: [(VAR 0 . 1),#<procedure>] \n",
      "E: (#<procedure> #<procedure>)\n",
      "\n",
      "State after step 4:\n",
      "T: (ABS (λ . 1) VAR 0 . 1)\n",
      "S: [(VAR 0 . 1),#<procedure>] \n",
      "E: ()\n",
      "\n",
      "State after step 5:\n",
      "T: (VAR 0 . 1)\n",
      "S: ()\n",
      "E: (#<procedure> #<procedure>)\n",
      "\n",
      "State after step 6:\n",
      "T: (VAR 0 . 1)\n",
      "S: ()\n",
      "E: (#<procedure> #<procedure>)\n",
      "\n",
      "State after step 7:\n",
      "T: (ABS (λ . 1) VAR 0 . 1)\n",
      "S: ()\n",
      "E: ()\n",
      "\n"
     ]
    },
    {
     "data": {
      "text/html": [
       "<code>'(ABS (λ . 1) VAR 0 . 1)</code>"
      ],
      "text/plain": [
       "'(ABS (λ . 1) VAR 0 . 1)"
      ]
     },
     "execution_count": 22,
     "metadata": {},
     "output_type": "execute_result"
    }
   ],
   "source": [
    "(krivine-machine '(APP (ABS (λ . 1) APP (VAR 0 . 1) VAR 0 . 1) ABS (λ . 1) VAR 0 . 1))"
   ]
  },
  {
   "cell_type": "markdown",
   "metadata": {},
   "source": [
    "### Fazit"
   ]
  },
  {
   "cell_type": "markdown",
   "metadata": {},
   "source": [
    "## Quellenverzeichnis\n",
    "- Krivine, Jean-Louis (2007):   \n",
    "   *A call-by-name lambda-calculus machine*, Springer, <https://link.springer.com/article/10.1007/s10990-007-9018-9> (letzter Zugriff 3.9.2021)\n",
    "- Rojas, Raúl (2015):  \n",
    "  *A Tutorial Introduction to the Lambda Calculus*, FU Berlin, <https://arxiv.org/abs/1503.09060> (letzter Zugriff 3.9.2021)\n",
    "- De Bruijn, Nicolaas Govert (1972):  \n",
    "  *Lambda calculus notation with nameless dummies, a tool for automatic formula manipulation, with application to the Church-Rosser theorem*, <https://doi.org/10.1016/1385-7258(72)90034-0> (letzter Zugriff 3.9.2021)"
   ]
  }
 ],
 "metadata": {
  "kernelspec": {
   "display_name": "Racket",
   "language": "racket",
   "name": "racket"
  },
  "language_info": {
   "codemirror_mode": "scheme",
   "file_extension": ".rkt",
   "mimetype": "text/x-racket",
   "name": "Racket",
   "pygments_lexer": "racket",
   "version": "8.0"
  }
 },
 "nbformat": 4,
 "nbformat_minor": 4
}
